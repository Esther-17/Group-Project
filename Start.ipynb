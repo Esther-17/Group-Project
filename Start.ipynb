{
 "cells": [
  {
   "cell_type": "markdown",
   "metadata": {},
   "source": [
    "PCA or multiple linear regression ??\n",
    "--> did linear regression to start with"
   ]
  },
  {
   "cell_type": "code",
   "execution_count": null,
   "metadata": {
    "collapsed": false
   },
   "outputs": [],
   "source": [
    "import numpy as np\n",
    "import pandas as pd\n",
    "import matplotlib.pyplot as plt\n",
    "%matplotlib inline"
   ]
  },
  {
   "cell_type": "code",
   "execution_count": null,
   "metadata": {
    "collapsed": false
   },
   "outputs": [],
   "source": [
    "# import data\n",
    "data = pd.ExcelFile('GordonChristopher_LE BN CR data for figures - Body Comp.xlsx')\n",
    "sheetnames=data.sheet_names"
   ]
  },
  {
   "cell_type": "code",
   "execution_count": null,
   "metadata": {
    "collapsed": false
   },
   "outputs": [],
   "source": [
    "# import all the worksheets\n",
    "d={}\n",
    "sheetname=[None] * 13\n",
    "for i in range(13):\n",
    "    name=sheetnames[i].replace(' ', '') # remove space from the worksheetname\n",
    "    sheetname[i]=name\n",
    "    if i == 0:\n",
    "        globals()[name]= data.parse(sheetnames[i],header=1)\n",
    "    else:\n",
    "        globals()[name]= data.parse(sheetnames[i])"
   ]
  },
  {
   "cell_type": "code",
   "execution_count": null,
   "metadata": {
    "collapsed": false
   },
   "outputs": [],
   "source": [
    "# clean up the data\n",
    "mymice=np.arange(60)\n",
    "for x in sheetname:\n",
    "    existmice=np.where(pd.isnull(globals()[x].iloc[:,6])==False) # remove overfat and dead mice\n",
    "    notaverow=np.where(pd.isnull(globals()[x].iloc[:,0])==False) # remove average row from data\n",
    "    bothrow=np.intersect1d(existmice,notaverow) # the overlapping row within one worksheet\n",
    "    mymice=np.intersect1d(mymice,bothrow) # overlapping between worksheet"
   ]
  },
  {
   "cell_type": "code",
   "execution_count": null,
   "metadata": {
    "collapsed": false
   },
   "outputs": [],
   "source": [
    "# get the 'new' dataset\n",
    "newsheetname=[None] * 13\n",
    "for i in range(13):\n",
    "    x='new'+sheetname[i]\n",
    "    newsheetname[i]=x\n",
    "    globals()[x]=globals()[sheetname[i]].iloc[mymice,:] # only the mice never have miss any data"
   ]
  },
  {
   "cell_type": "markdown",
   "metadata": {},
   "source": [
    "Analysis Start --- "
   ]
  },
  {
   "cell_type": "code",
   "execution_count": null,
   "metadata": {
    "collapsed": true
   },
   "outputs": [],
   "source": [
    "# test and train ind base on dataframe input\n",
    "def test_train_id(data,test_frac):\n",
    "    testnumber=round(len(data)*test_frac)\n",
    "    ids=list(data.index)\n",
    "    np.random.shuffle(ids)\n",
    "    test=ids[0:testnumber]\n",
    "    test.sort()\n",
    "    train=ids[testnumber:]  \n",
    "    train.sort()\n",
    "    return train,test,len(data)-testnumber"
   ]
  },
  {
   "cell_type": "code",
   "execution_count": null,
   "metadata": {
    "collapsed": false
   },
   "outputs": [],
   "source": [
    "day=[89,117,152,180,209,244,272,300,335,363,384,421,447]\n",
    "# random assign train and test ind based on 'first day'\n",
    "BLPND89=globals()[newsheetname[0]][globals()[newsheetname[0]]['Group'].str.contains('BN ad lib',case=False)]\n",
    "BLtrain,BLtest,BLtrainnumber=test_train_id(BLPND89,0.3)"
   ]
  },
  {
   "cell_type": "code",
   "execution_count": null,
   "metadata": {
    "collapsed": false
   },
   "outputs": [],
   "source": [
    "# pull data based on ind\n",
    "BLtrainweight=[None]*13\n",
    "BLtestweight=[None]*13\n",
    "BLavetrainweight=[None]*13\n",
    "for i in range(13):\n",
    "    bl=globals()[newsheetname[i]].iloc[BLtest,:]\n",
    "    BLtestweight[i]=bl['Sample Weight (g)']\n",
    "    bl=globals()[newsheetname[i]].iloc[BLtrain,:]\n",
    "    BLtrainweight[i]=bl['Sample Weight (g)']\n",
    "    BLavetrainweight[i]=np.mean(bl['Sample Weight (g)'])"
   ]
  },
  {
   "cell_type": "code",
   "execution_count": null,
   "metadata": {
    "collapsed": false
   },
   "outputs": [],
   "source": [
    "# linear regression\n",
    "from sklearn.linear_model import LinearRegression\n",
    "model = LinearRegression(fit_intercept=True)\n",
    "model.fit(np.asarray(day)[:,np.newaxis], np.asarray(BLavetrainweight))"
   ]
  },
  {
   "cell_type": "code",
   "execution_count": null,
   "metadata": {
    "collapsed": true
   },
   "outputs": [],
   "source": [
    "# rearrange test data\n",
    "o=np.asarray(BLtestweight)\n",
    "BLtestw=np.zeros(([2,13]))\n",
    "for i in range(13):\n",
    "    m=o[i]\n",
    "    for j in range(2):\n",
    "        BLtestw[j,i]=m[j]"
   ]
  },
  {
   "cell_type": "code",
   "execution_count": null,
   "metadata": {
    "collapsed": false
   },
   "outputs": [],
   "source": [
    "# accuracy\n",
    "print(model.predict(np.array([281])[:, np.newaxis]))\n",
    "print(model.coef_*281+model.intercept_)"
   ]
  },
  {
   "cell_type": "code",
   "execution_count": null,
   "metadata": {
    "collapsed": false
   },
   "outputs": [],
   "source": [
    "np.mean(poly_model.predict(BLtestw[0,:][:, np.newaxis]) - BLtestw[0,:])"
   ]
  },
  {
   "cell_type": "code",
   "execution_count": null,
   "metadata": {
    "collapsed": false
   },
   "outputs": [],
   "source": [
    "from sklearn.pipeline import make_pipeline\n",
    "poly_model = make_pipeline(PolynomialFeatures(1),\n",
    "                           LinearRegression())\n",
    "poly_model.fit(np.asarray(day)[:,np.newaxis], np.asarray(BLavetrainweight))\n",
    "#yfit = poly_model.predict(xfit[:, np.newaxis])"
   ]
  },
  {
   "cell_type": "code",
   "execution_count": null,
   "metadata": {
    "collapsed": false
   },
   "outputs": [],
   "source": [
    "# train data point\n",
    "Fig=plt.figure(figsize=(15,8))\n",
    "for xe, ye in zip(day, BLtrainweight):\n",
    "    indi=plt.scatter([xe] * len(ye), ye, c=\"limegreen\",alpha=0.6,s=50,edgecolors='none')\n",
    "plt.xticks([89,117,152,180,209,244,272,300,335,363,384,421,447])\n",
    "plt.axes().set_xticklabels(sheetnames,rotation=75)\n",
    "# average point\n",
    "average=plt.scatter(day,BLavetrainweight, c=\"red\",s=60,edgecolors='none',label=\"Aveage\")\n",
    "# plot \n",
    "plt.legend((indi,average),\n",
    "           ('Individual', 'Average'),\n",
    "           scatterpoints=1,\n",
    "           loc='upper left')\n",
    "# plot linear regression\n",
    "plt.plot(np.asarray(day), poly_model.predict(BLtestw[0,:][:, np.newaxis]), color='seagreen',linewidth=3)\n",
    "plt.plot(np.asarray(day), poly_model.predict(days[:, np.newaxis]), color='seagreen',linewidth=3)\n",
    "#plot test group\n",
    "for xe, ye in zip(day, BLtestweight):\n",
    "    indi=plt.scatter([xe] * len(ye), ye, c=\"purple\",alpha=0.6,s=50,edgecolors='none')\n",
    "\n",
    "plt.title('Weight for BN ad lib group')\n",
    "plt.ylabel('Weight(g)')"
   ]
  },
  {
   "cell_type": "code",
   "execution_count": null,
   "metadata": {
    "collapsed": false
   },
   "outputs": [],
   "source": [
    "from sklearn.preprocessing import PolynomialFeatures\n",
    "\n",
    "poly = PolynomialFeatures(degree=)\n",
    "poly.fit(np.asarray(day)[:,np.newaxis], np.asarray(BLavetrainweight))"
   ]
  },
  {
   "cell_type": "code",
   "execution_count": null,
   "metadata": {
    "collapsed": false
   },
   "outputs": [],
   "source": [
    "from sklearn.pipeline import make_pipeline\n",
    "poly_model = make_pipeline(PolynomialFeatures(4),\n",
    "                           LinearRegression())\n",
    "poly_model.fit(np.asarray(day)[:,np.newaxis], np.asarray(BLavetrainweight))\n",
    "#yfit = poly_model.predict(xfit[:, np.newaxis])"
   ]
  },
  {
   "cell_type": "code",
   "execution_count": null,
   "metadata": {
    "collapsed": false
   },
   "outputs": [],
   "source": [
    "BLtestw[1,0]"
   ]
  },
  {
   "cell_type": "code",
   "execution_count": null,
   "metadata": {
    "collapsed": false
   },
   "outputs": [],
   "source": [
    "# column header\n",
    "list(BLPND89)"
   ]
  },
  {
   "cell_type": "code",
   "execution_count": null,
   "metadata": {
    "collapsed": false
   },
   "outputs": [],
   "source": [
    "BLtestweight"
   ]
  },
  {
   "cell_type": "code",
   "execution_count": null,
   "metadata": {
    "collapsed": true
   },
   "outputs": [],
   "source": []
  },
  {
   "cell_type": "code",
   "execution_count": null,
   "metadata": {
    "collapsed": true
   },
   "outputs": [],
   "source": []
  },
  {
   "cell_type": "code",
   "execution_count": null,
   "metadata": {
    "collapsed": true
   },
   "outputs": [],
   "source": []
  },
  {
   "cell_type": "code",
   "execution_count": null,
   "metadata": {
    "collapsed": true
   },
   "outputs": [],
   "source": []
  },
  {
   "cell_type": "code",
   "execution_count": null,
   "metadata": {
    "collapsed": true
   },
   "outputs": [],
   "source": []
  },
  {
   "cell_type": "code",
   "execution_count": null,
   "metadata": {
    "collapsed": false
   },
   "outputs": [],
   "source": [
    "BLtrain,BLtest=test_train_id(BL,0.3)\n",
    "\n",
    "BLWeight=BL['Sample Weight (g)'] # the weight for BL group\n",
    "\n",
    "y[i]=BNL # all the weight on the same day as one part in the list y\n",
    "ave[i]=np.mean(BNL) # average weight on each day\n",
    "x=[89,117,152,180,209,244,272,300,335,363,384,421,447]"
   ]
  },
  {
   "cell_type": "code",
   "execution_count": null,
   "metadata": {
    "collapsed": false
   },
   "outputs": [],
   "source": [
    "BLWeight[None] * 13\n",
    "=[None] * 13"
   ]
  },
  {
   "cell_type": "code",
   "execution_count": null,
   "metadata": {
    "collapsed": false
   },
   "outputs": [],
   "source": []
  },
  {
   "cell_type": "code",
   "execution_count": null,
   "metadata": {
    "collapsed": false
   },
   "outputs": [],
   "source": [
    "days=np.array([80,130,150,160,200,220,250,300,330,380,400,430,450])"
   ]
  },
  {
   "cell_type": "code",
   "execution_count": null,
   "metadata": {
    "collapsed": false
   },
   "outputs": [],
   "source": []
  },
  {
   "cell_type": "code",
   "execution_count": null,
   "metadata": {
    "collapsed": true
   },
   "outputs": [],
   "source": [
    "# weight for 'Bn ad lib'\n",
    "yB10=[None] * 13\n",
    "aveB10=[None] * 13\n",
    "for i in range(13):   \n",
    "    BL10=globals()[newsheetname[i]][globals()[newsheetname[i]]['Group'].str.contains('BN 10% restriction',case=False)]"
   ]
  },
  {
   "cell_type": "code",
   "execution_count": null,
   "metadata": {
    "collapsed": false
   },
   "outputs": [],
   "source": [
    "indee=list(BL10.index)"
   ]
  },
  {
   "cell_type": "code",
   "execution_count": null,
   "metadata": {
    "collapsed": false
   },
   "outputs": [],
   "source": [
    "Fig=plt.figure(figsize=(15,8))\n",
    "\n",
    "for xe, ye in zip(x, y):\n",
    "    indi=plt.scatter([xe] * len(ye), ye, c=\"green\",alpha=0.6,s=50,edgecolors='none')\n",
    "\n",
    "plt.xticks([89,117,152,180,209,244,272,300,335,363,384,421,447])\n",
    "plt.axes().set_xticklabels(sheetnames,rotation=75)\n",
    "\n",
    "average=plt.scatter(x,ave, c=\"red\",s=60,edgecolors='none',label=\"Aveage\")\n",
    "\n",
    "plt.legend((indi,average),\n",
    "           ('Individual', 'Average'),\n",
    "           scatterpoints=1,\n",
    "           loc='upper left')\n",
    "\n",
    "\n",
    "from sklearn.linear_model import LinearRegression\n",
    "model = LinearRegression(fit_intercept=True)\n",
    "model.fit(np.asarray(x)[:,np.newaxis], np.asarray(ave))\n",
    "\n",
    "xx = np.linspace(80, 450, 1000)\n",
    "yy = model.predict(xx[:, np.newaxis])\n",
    "plt.plot(xx, yy, 'b',linewidth=2.0)\n",
    "\n",
    "plt.plot(diabetes_X_test, regr.predict(diabetes_X_test[:, np.newaxis]), color='blue',\n",
    "         linewidth=3)\n",
    "\n",
    "plt.title('Weight for BN ad lib group')\n",
    "plt.ylabel('Weight(g)')"
   ]
  },
  {
   "cell_type": "code",
   "execution_count": null,
   "metadata": {
    "collapsed": false
   },
   "outputs": [],
   "source": [
    "def test_train_id(N,test_frac):\n",
    "    testnumber=round(N*test_frac)\n",
    "    ids=np.arange(N)\n",
    "    np.random.shuffle(ids)\n",
    "    test=ids[0:testnumber]\n",
    "    train=ids[testnumber:]       \n",
    "    return train,test"
   ]
  },
  {
   "cell_type": "code",
   "execution_count": null,
   "metadata": {
    "collapsed": false
   },
   "outputs": [],
   "source": []
  },
  {
   "cell_type": "code",
   "execution_count": null,
   "metadata": {
    "collapsed": false
   },
   "outputs": [],
   "source": [
    "whos"
   ]
  },
  {
   "cell_type": "code",
   "execution_count": null,
   "metadata": {
    "collapsed": true
   },
   "outputs": [],
   "source": []
  }
 ],
 "metadata": {
  "anaconda-cloud": {},
  "kernelspec": {
   "display_name": "Python [default]",
   "language": "python",
   "name": "python3"
  },
  "language_info": {
   "codemirror_mode": {
    "name": "ipython",
    "version": 3
   },
   "file_extension": ".py",
   "mimetype": "text/x-python",
   "name": "python",
   "nbconvert_exporter": "python",
   "pygments_lexer": "ipython3",
   "version": "3.5.2"
  }
 },
 "nbformat": 4,
 "nbformat_minor": 1
}
