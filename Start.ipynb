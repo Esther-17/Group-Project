{
 "cells": [
  {
   "cell_type": "markdown",
   "metadata": {},
   "source": [
    "PCA or multiple linear regression ??\n",
    "--> did linear regression to start with"
   ]
  },
  {
   "cell_type": "code",
   "execution_count": 1,
   "metadata": {
    "collapsed": false
   },
   "outputs": [],
   "source": [
    "import numpy as np\n",
    "import pandas as pd\n",
    "import matplotlib.pyplot as plt\n",
    "%matplotlib inline"
   ]
  },
  {
   "cell_type": "code",
   "execution_count": 2,
   "metadata": {
    "collapsed": false
   },
   "outputs": [],
   "source": [
    "# import data\n",
    "data = pd.ExcelFile('GordonChristopher_LE BN CR data for figures - Body Comp.xlsx')\n",
    "sheetnames=data.sheet_names"
   ]
  },
  {
   "cell_type": "code",
   "execution_count": 3,
   "metadata": {
    "collapsed": false
   },
   "outputs": [],
   "source": [
    "# import all the worksheets\n",
    "d={}\n",
    "sheetname=[None] * 13\n",
    "for i in range(13):\n",
    "    name=sheetnames[i].replace(' ', '') # remove space from the worksheetname\n",
    "    sheetname[i]=name\n",
    "    if i == 0:\n",
    "        globals()[name]= data.parse(sheetnames[i],header=1)\n",
    "    else:\n",
    "        globals()[name]= data.parse(sheetnames[i])"
   ]
  },
  {
   "cell_type": "code",
   "execution_count": 5,
   "metadata": {
    "collapsed": false
   },
   "outputs": [],
   "source": [
    "# clean up the data\n",
    "mymice=np.arange(60)\n",
    "for x in sheetname:\n",
    "    existmice=np.where(pd.isnull(globals()[x].iloc[:,6])==False) # remove overfat and dead mice\n",
    "    notaverow=np.where(pd.isnull(globals()[x].iloc[:,0])==False) # remove average row from data\n",
    "    bothrow=np.intersect1d(existmice,notaverow) # the overlapping row within one worksheet\n",
    "    mymice=np.intersect1d(mymice,bothrow) # overlapping between worksheet"
   ]
  },
  {
   "cell_type": "code",
   "execution_count": 6,
   "metadata": {
    "collapsed": false
   },
   "outputs": [],
   "source": [
    "# get the 'new' dataset\n",
    "newsheetname=[None] * 13\n",
    "for i in range(13):\n",
    "    x='new'+sheetname[i]\n",
    "    newsheetname[i]=x\n",
    "    globals()[x]=globals()[sheetname[i]].iloc[mymice,:] # only the mice never have miss any data"
   ]
  },
  {
   "cell_type": "code",
   "execution_count": 11,
   "metadata": {
    "collapsed": false
   },
   "outputs": [],
   "source": [
    "# weight for 'Bn ad lib'\n",
    "y=[None] * 13\n",
    "ave=[None] * 13\n",
    "for i in range(13):   \n",
    "    BL=globals()[newsheetname[i]][globals()[newsheetname[i]]['Group'].str.contains('BN ad lib',case=False)]\n",
    "    # filter out 'BN ad lib' group\n",
    "    \n",
    "    \n",
    "    \n",
    "    BNL=BL.iloc[:,9] # the weight for that group\n",
    "    y[i]=BNL # all the weight on the same day as one part in the list y\n",
    "    ave[i]=np.mean(BNL) # average weight on each day\n",
    "x=[89,117,152,180,209,244,272,300,335,363,384,421,447]"
   ]
  },
  {
   "cell_type": "code",
   "execution_count": 16,
   "metadata": {
    "collapsed": false
   },
   "outputs": [
    {
     "data": {
      "text/html": [
       "<div>\n",
       "<table border=\"1\" class=\"dataframe\">\n",
       "  <thead>\n",
       "    <tr style=\"text-align: right;\">\n",
       "      <th></th>\n",
       "      <th>Program</th>\n",
       "      <th>Strain</th>\n",
       "      <th>Age</th>\n",
       "      <th>Sample ID</th>\n",
       "      <th>Date/Time</th>\n",
       "      <th>Group</th>\n",
       "      <th>Fat (g)</th>\n",
       "      <th>Lean (g)</th>\n",
       "      <th>Fluid (g)</th>\n",
       "      <th>Sample Weight (g)</th>\n",
       "      <th>% Fat</th>\n",
       "      <th>% Lean</th>\n",
       "      <th>% Fluid</th>\n",
       "      <th>% Total</th>\n",
       "    </tr>\n",
       "  </thead>\n",
       "  <tbody>\n",
       "    <tr>\n",
       "      <th>0</th>\n",
       "      <td>ratV4</td>\n",
       "      <td>BN</td>\n",
       "      <td>447 day</td>\n",
       "      <td>E317rv4-1</td>\n",
       "      <td>MAR.11,2013 09:42</td>\n",
       "      <td>BN ad lib</td>\n",
       "      <td>45.7</td>\n",
       "      <td>309.5</td>\n",
       "      <td>33.1</td>\n",
       "      <td>399.0</td>\n",
       "      <td>11.4</td>\n",
       "      <td>77.6</td>\n",
       "      <td>8.3</td>\n",
       "      <td>97.3</td>\n",
       "    </tr>\n",
       "    <tr>\n",
       "      <th>1</th>\n",
       "      <td>ratV4</td>\n",
       "      <td>BN</td>\n",
       "      <td>447 day</td>\n",
       "      <td>E317rv4-2</td>\n",
       "      <td>MAR.11,2013 09:45</td>\n",
       "      <td>BN ad lib</td>\n",
       "      <td>40.8</td>\n",
       "      <td>324.7</td>\n",
       "      <td>32.2</td>\n",
       "      <td>410.0</td>\n",
       "      <td>10.0</td>\n",
       "      <td>79.2</td>\n",
       "      <td>7.9</td>\n",
       "      <td>97.1</td>\n",
       "    </tr>\n",
       "    <tr>\n",
       "      <th>2</th>\n",
       "      <td>ratV4</td>\n",
       "      <td>BN</td>\n",
       "      <td>447 day</td>\n",
       "      <td>E317rv4-3</td>\n",
       "      <td>MAR.11,2013 09:46</td>\n",
       "      <td>BN ad lib</td>\n",
       "      <td>63.9</td>\n",
       "      <td>351.6</td>\n",
       "      <td>35.5</td>\n",
       "      <td>449.0</td>\n",
       "      <td>14.2</td>\n",
       "      <td>78.3</td>\n",
       "      <td>7.9</td>\n",
       "      <td>100.4</td>\n",
       "    </tr>\n",
       "    <tr>\n",
       "      <th>3</th>\n",
       "      <td>ratV4</td>\n",
       "      <td>BN</td>\n",
       "      <td>447 day</td>\n",
       "      <td>E317rv4-4</td>\n",
       "      <td>MAR.11,2013 09:47</td>\n",
       "      <td>BN ad lib</td>\n",
       "      <td>40.3</td>\n",
       "      <td>337.4</td>\n",
       "      <td>35.5</td>\n",
       "      <td>432.0</td>\n",
       "      <td>9.3</td>\n",
       "      <td>78.1</td>\n",
       "      <td>8.2</td>\n",
       "      <td>95.6</td>\n",
       "    </tr>\n",
       "    <tr>\n",
       "      <th>4</th>\n",
       "      <td>ratV4</td>\n",
       "      <td>BN</td>\n",
       "      <td>447 day</td>\n",
       "      <td>E317rv4-5</td>\n",
       "      <td>MAR.11,2013 09:49</td>\n",
       "      <td>BN ad lib</td>\n",
       "      <td>52.0</td>\n",
       "      <td>323.3</td>\n",
       "      <td>31.9</td>\n",
       "      <td>414.0</td>\n",
       "      <td>12.5</td>\n",
       "      <td>78.1</td>\n",
       "      <td>7.7</td>\n",
       "      <td>98.3</td>\n",
       "    </tr>\n",
       "    <tr>\n",
       "      <th>5</th>\n",
       "      <td>ratV4</td>\n",
       "      <td>BN</td>\n",
       "      <td>447 day</td>\n",
       "      <td>E317rv4-6</td>\n",
       "      <td>MAR.11,2013 09:50</td>\n",
       "      <td>BN ad lib</td>\n",
       "      <td>50.1</td>\n",
       "      <td>320.5</td>\n",
       "      <td>31.9</td>\n",
       "      <td>413.0</td>\n",
       "      <td>12.1</td>\n",
       "      <td>77.6</td>\n",
       "      <td>7.7</td>\n",
       "      <td>97.4</td>\n",
       "    </tr>\n",
       "    <tr>\n",
       "      <th>6</th>\n",
       "      <td>ratV4</td>\n",
       "      <td>BN</td>\n",
       "      <td>447 day</td>\n",
       "      <td>E317rv4-7</td>\n",
       "      <td>MAR.11,2013 09:51</td>\n",
       "      <td>BN ad lib</td>\n",
       "      <td>64.4</td>\n",
       "      <td>354.5</td>\n",
       "      <td>35.0</td>\n",
       "      <td>451.0</td>\n",
       "      <td>14.3</td>\n",
       "      <td>78.6</td>\n",
       "      <td>7.7</td>\n",
       "      <td>100.6</td>\n",
       "    </tr>\n",
       "    <tr>\n",
       "      <th>7</th>\n",
       "      <td>ratV4</td>\n",
       "      <td>BN</td>\n",
       "      <td>447 day</td>\n",
       "      <td>E317rv4-8</td>\n",
       "      <td>MAR.11,2013 09:53</td>\n",
       "      <td>BN ad lib</td>\n",
       "      <td>50.6</td>\n",
       "      <td>348.9</td>\n",
       "      <td>36.1</td>\n",
       "      <td>447.0</td>\n",
       "      <td>11.3</td>\n",
       "      <td>78.0</td>\n",
       "      <td>8.1</td>\n",
       "      <td>97.4</td>\n",
       "    </tr>\n",
       "  </tbody>\n",
       "</table>\n",
       "</div>"
      ],
      "text/plain": [
       "  Program Strain      Age  Sample ID          Date/Time      Group  Fat (g)  \\\n",
       "0   ratV4     BN  447 day  E317rv4-1  MAR.11,2013 09:42  BN ad lib     45.7   \n",
       "1   ratV4     BN  447 day  E317rv4-2  MAR.11,2013 09:45  BN ad lib     40.8   \n",
       "2   ratV4     BN  447 day  E317rv4-3  MAR.11,2013 09:46  BN ad lib     63.9   \n",
       "3   ratV4     BN  447 day  E317rv4-4  MAR.11,2013 09:47  BN ad lib     40.3   \n",
       "4   ratV4     BN  447 day  E317rv4-5  MAR.11,2013 09:49  BN ad lib     52.0   \n",
       "5   ratV4     BN  447 day  E317rv4-6  MAR.11,2013 09:50  BN ad lib     50.1   \n",
       "6   ratV4     BN  447 day  E317rv4-7  MAR.11,2013 09:51  BN ad lib     64.4   \n",
       "7   ratV4     BN  447 day  E317rv4-8  MAR.11,2013 09:53  BN ad lib     50.6   \n",
       "\n",
       "   Lean (g)  Fluid (g)  Sample Weight (g)  % Fat  % Lean  % Fluid  % Total  \n",
       "0     309.5       33.1              399.0   11.4    77.6      8.3     97.3  \n",
       "1     324.7       32.2              410.0   10.0    79.2      7.9     97.1  \n",
       "2     351.6       35.5              449.0   14.2    78.3      7.9    100.4  \n",
       "3     337.4       35.5              432.0    9.3    78.1      8.2     95.6  \n",
       "4     323.3       31.9              414.0   12.5    78.1      7.7     98.3  \n",
       "5     320.5       31.9              413.0   12.1    77.6      7.7     97.4  \n",
       "6     354.5       35.0              451.0   14.3    78.6      7.7    100.6  \n",
       "7     348.9       36.1              447.0   11.3    78.0      8.1     97.4  "
      ]
     },
     "execution_count": 16,
     "metadata": {},
     "output_type": "execute_result"
    }
   ],
   "source": [
    "def test_train_id(N,test_frac):\n",
    "    testnumber=round(N*test_frac)\n",
    "    ids=np.arange(N)\n",
    "    np.random.shuffle(ids)\n",
    "    test=ids[0:testnumber]\n",
    "    train=ids[testnumber:]       \n",
    "    return train,test"
   ]
  },
  {
   "cell_type": "code",
   "execution_count": 17,
   "metadata": {
    "collapsed": true
   },
   "outputs": [],
   "source": [
    "# weight for 'Bn ad lib'\n",
    "yB10=[None] * 13\n",
    "aveB10=[None] * 13\n",
    "for i in range(13):   \n",
    "    BL10=globals()[newsheetname[i]][globals()[newsheetname[i]]['Group'].str.contains('BN 10% restriction',case=False)]"
   ]
  },
  {
   "cell_type": "code",
   "execution_count": 24,
   "metadata": {
    "collapsed": false
   },
   "outputs": [],
   "source": [
    "indee=list(BL10.index)"
   ]
  },
  {
   "cell_type": "code",
   "execution_count": 8,
   "metadata": {
    "collapsed": false
   },
   "outputs": [
    {
     "data": {
      "text/plain": [
       "<matplotlib.text.Text at 0x115327748>"
      ]
     },
     "execution_count": 8,
     "metadata": {},
     "output_type": "execute_result"
    },
    {
     "data": {
      "image/png": "[encoded data removed]",
      "text/plain": [
       "<matplotlib.figure.Figure at 0x112f13d68>"
      ]
     },
     "metadata": {},
     "output_type": "display_data"
    }
   ],
   "source": [
    "Fig=plt.figure(figsize=(15,8))\n",
    "\n",
    "for xe, ye in zip(x, y):\n",
    "    indi=plt.scatter([xe] * len(ye), ye, c=\"green\",alpha=0.6,s=50,edgecolors='none')\n",
    "\n",
    "plt.xticks([89,117,152,180,209,244,272,300,335,363,384,421,447])\n",
    "plt.axes().set_xticklabels(sheetnames,rotation=75)\n",
    "\n",
    "average=plt.scatter(x,ave, c=\"red\",s=60,edgecolors='none',label=\"Aveage\")\n",
    "\n",
    "plt.legend((indi,average),\n",
    "           ('Individual', 'Average'),\n",
    "           scatterpoints=1,\n",
    "           loc='upper left')\n",
    "\n",
    "\n",
    "from sklearn.linear_model import LinearRegression\n",
    "model = LinearRegression(fit_intercept=True)\n",
    "model.fit(np.asarray(x)[:,np.newaxis], np.asarray(ave))\n",
    "\n",
    "xx = np.linspace(80, 450, 1000)\n",
    "yy = model.predict(xx[:, np.newaxis])\n",
    "plt.plot(xx, yy, 'b',linewidth=2.0)\n",
    "\n",
    "plt.title('Weight for BN ad lib group')\n",
    "plt.ylabel('Weight(g)')"
   ]
  },
  {
   "cell_type": "code",
   "execution_count": 9,
   "metadata": {
    "collapsed": false
   },
   "outputs": [],
   "source": [
    "def test_train_id(N,test_frac):\n",
    "    testnumber=round(N*test_frac)\n",
    "    ids=np.arange(N)\n",
    "    np.random.shuffle(ids)\n",
    "    test=ids[0:testnumber]\n",
    "    train=ids[testnumber:]       \n",
    "    return train,test"
   ]
  },
  {
   "cell_type": "code",
   "execution_count": null,
   "metadata": {
    "collapsed": false
   },
   "outputs": [],
   "source": []
  },
  {
   "cell_type": "code",
   "execution_count": 25,
   "metadata": {
    "collapsed": false
   },
   "outputs": [
    {
     "name": "stdout",
     "output_type": "stream",
     "text": [
      "Variable           Type                Data/Info\n",
      "------------------------------------------------\n",
      "BL                 DataFrame             Program Strain      Age<...> 78.0      8.1     97.4  \n",
      "BL10               DataFrame              Program Strain      Ag<...>    96.5  \\n17    100.4  \n",
      "BNL                Series              0    399.0\\n1    410.0\\n2<...>eight (g), dtype: float64\n",
      "Fig                Figure              Figure(1080x576)\n",
      "LinearRegression   ABCMeta             <class 'sklearn.linear_mo<...>l.base.LinearRegression'>\n",
      "PND117             DataFrame              Program Strain      Ag<...>6  0.049776    0.390398  \n",
      "PND152             DataFrame              Program Strain      Ag<...>2  0.086474    0.374374  \n",
      "PND180             DataFrame              Program Strain      Ag<...>9  0.086603    0.363883  \n",
      "PND209             DataFrame              Program Strain      Ag<...>4  0.051539    0.446714  \n",
      "PND244             DataFrame              Program Strain      Ag<...>4  0.084383    0.399553  \n",
      "PND272             DataFrame              Program Strain      Ag<...>7  0.032733    0.562024  \n",
      "PND300             DataFrame              Program Strain      Ag<...>5  0.035038    0.572276  \n",
      "PND335             DataFrame              Program Strain      Ag<...>6  0.058056    0.552591  \n",
      "PND363             DataFrame              Program Strain      Ag<...>8  0.075593    0.602654  \n",
      "PND384             DataFrame              Program Strain      Ag<...>0  0.052610    0.604577  \n",
      "PND421             DataFrame              Program Strain      Ag<...>6  0.077776    0.746285  \n",
      "PND447             DataFrame              Program Strain      Ag<...>0  0.042258    0.682155  \n",
      "PND89              DataFrame              Program Strain     Age<...>9  0.081147    0.366420  \n",
      "ave                list                n=13\n",
      "aveB10             list                n=13\n",
      "average            PathCollection      <matplotlib.collections.P<...>on object at 0x11582cd30>\n",
      "bothrow            ndarray             42: 42 elems, type `int64`, 336 bytes\n",
      "d                  dict                n=0\n",
      "data               ExcelFile           <pandas.io.excel.ExcelFile object at 0x104844438>\n",
      "existmice          tuple               n=1\n",
      "i                  int                 12\n",
      "indee              list                n=7\n",
      "indi               PathCollection      <matplotlib.collections.P<...>on object at 0x11538f7f0>\n",
      "model              LinearRegression    LinearRegression(copy_X=T<...>_jobs=1, normalize=False)\n",
      "mymice             ndarray             40: 40 elems, type `int64`, 320 bytes\n",
      "name               str                 PND447\n",
      "newPND117          DataFrame              Program Strain      Ag<...>    96.7  \\n57     98.9  \n",
      "newPND152          DataFrame              Program Strain      Ag<...>    99.8  \\n57     99.4  \n",
      "newPND180          DataFrame              Program Strain      Ag<...>    99.0  \\n57     98.8  \n",
      "newPND209          DataFrame              Program Strain      Ag<...>    99.3  \\n57     99.5  \n",
      "newPND244          DataFrame              Program Strain      Ag<...>    99.4  \\n57     99.2  \n",
      "newPND272          DataFrame              Program Strain      Ag<...>   100.8  \\n57    100.2  \n",
      "newPND300          DataFrame              Program Strain      Ag<...>    98.4  \\n57    101.4  \n",
      "newPND335          DataFrame              Program Strain      Ag<...>    99.4  \\n57    102.5  \n",
      "newPND363          DataFrame              Program Strain      Ag<...>    98.7  \\n57    102.1  \n",
      "newPND384          DataFrame              Program Strain      Ag<...>    99.2  \\n57    102.6  \n",
      "newPND421          DataFrame              Program Strain      Ag<...>    98.3  \\n57    102.4  \n",
      "newPND447          DataFrame              Program Strain      Ag<...>    98.9  \\n57    103.4  \n",
      "newPND89           DataFrame              Program Strain     Age<...>    97.9  \\n57     98.2  \n",
      "newsheetname       list                n=13\n",
      "notaverow          tuple               n=1\n",
      "np                 module              <module 'numpy' from '/Us<...>kages/numpy/__init__.py'>\n",
      "pd                 module              <module 'pandas' from '/U<...>ages/pandas/__init__.py'>\n",
      "plt                module              <module 'matplotlib.pyplo<...>es/matplotlib/pyplot.py'>\n",
      "sheetname          list                n=13\n",
      "sheetnames         list                n=13\n",
      "test_train_id      function            <function test_train_id at 0x11764f620>\n",
      "x                  list                n=13\n",
      "xe                 int                 447\n",
      "xx                 ndarray             1000: 1000 elems, type `float64`, 8000 bytes\n",
      "y                  list                n=13\n",
      "yB10               list                n=13\n",
      "ye                 Series              0    399.0\\n1    410.0\\n2<...>eight (g), dtype: float64\n",
      "yy                 ndarray             1000: 1000 elems, type `float64`, 8000 bytes\n"
     ]
    }
   ],
   "source": [
    "whos"
   ]
  },
  {
   "cell_type": "code",
   "execution_count": null,
   "metadata": {
    "collapsed": true
   },
   "outputs": [],
   "source": []
  }
 ],
 "metadata": {
  "anaconda-cloud": {},
  "kernelspec": {
   "display_name": "Python [default]",
   "language": "python",
   "name": "python3"
  },
  "language_info": {
   "codemirror_mode": {
    "name": "ipython",
    "version": 3
   },
   "file_extension": ".py",
   "mimetype": "text/x-python",
   "name": "python",
   "nbconvert_exporter": "python",
   "pygments_lexer": "ipython3",
   "version": "3.5.2"
  }
 },
 "nbformat": 4,
 "nbformat_minor": 1
}
