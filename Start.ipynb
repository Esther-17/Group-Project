{
 "cells": [
  {
   "cell_type": "markdown",
   "metadata": {},
   "source": [
    "PCA or multiple linear regression ??"
   ]
  },
  {
   "cell_type": "code",
   "execution_count": 1,
   "metadata": {
    "collapsed": false
   },
   "outputs": [],
   "source": [
    "import numpy as np\n",
    "import pandas as pd\n",
    "import matplotlib.pyplot as plt\n",
    "%matplotlib inline"
   ]
  },
  {
   "cell_type": "code",
   "execution_count": 36,
   "metadata": {
    "collapsed": false
   },
   "outputs": [],
   "source": [
    "# import data\n",
    "data = pd.ExcelFile('GordonChristopher_LE BN CR data for figures - Body Comp.xlsx')\n",
    "sheetnames=data.sheet_names\n",
    "#d447 = data.parse('PND 447')\n"
   ]
  },
  {
   "cell_type": "code",
   "execution_count": 45,
   "metadata": {
    "collapsed": false
   },
   "outputs": [],
   "source": [
    "d={}\n",
    "for i in sheetnames:\n",
    "    globals()[i] = data.parse(i,header=1)"
   ]
  },
  {
   "cell_type": "code",
   "execution_count": 46,
   "metadata": {
    "collapsed": false
   },
   "outputs": [
    {
     "ename": "NameError",
     "evalue": "name 'PND_447' is not defined",
     "output_type": "error",
     "traceback": [
      "\u001b[0;31m---------------------------------------------------------------------------\u001b[0m",
      "\u001b[0;31mNameError\u001b[0m                                 Traceback (most recent call last)",
      "\u001b[0;32m<ipython-input-46-b0b76f880fd9>\u001b[0m in \u001b[0;36m<module>\u001b[0;34m()\u001b[0m\n\u001b[0;32m----> 1\u001b[0;31m \u001b[0mPND_447\u001b[0m\u001b[0;34m\u001b[0m\u001b[0m\n\u001b[0m",
      "\u001b[0;31mNameError\u001b[0m: name 'PND_447' is not defined"
     ]
    }
   ],
   "source": [
    "PND_447"
   ]
  },
  {
   "cell_type": "markdown",
   "metadata": {},
   "source": [
    "dct = {}\n",
    "for i in sheetnames:\n",
    "    if i=='PND 89':\n",
    "       = data.parse(i,header=1) \n",
    "#d447 = data.parse('PND 447')"
   ]
  },
  {
   "cell_type": "code",
   "execution_count": 8,
   "metadata": {
    "collapsed": false
   },
   "outputs": [
    {
     "data": {
      "text/plain": [
       "(42, 14)"
      ]
     },
     "execution_count": 8,
     "metadata": {},
     "output_type": "execute_result"
    }
   ],
   "source": [
    "# select mice to exclude the ones are dead and overweight\n",
    "d447 = data.parse('PND 447')\n",
    "existmice=np.where(pd.isnull(d447.iloc[:,6])==False)\n",
    "notaverow=np.where(pd.isnull(d447.iloc[:,0])==False)\n",
    "myrow=np.intersect1d(existmice,notaverow)\n",
    "myd447=d447.iloc[myrow,:]\n",
    "myd447.shape"
   ]
  },
  {
   "cell_type": "markdown",
   "metadata": {},
   "source": [
    "d117v=d117.values\n",
    "averow=np.where(pd.isnull(d117.iloc[:,0])==True)\n",
    "oriaved117=d117v[averow,:]\n",
    "notaverow=np.where(pd.isnull(d117.iloc[:,0])==False)\n",
    "oridatad117=d117v[notaverow,:]"
   ]
  },
  {
   "cell_type": "markdown",
   "metadata": {},
   "source": [
    "d447=data.parse('PND 447')\n",
    "d447v=d447.values\n",
    "oriaved447=d447v[averow,:]\n",
    "oridatad447=d447v[notaverow,:]\n",
    "mice=np.where(pd.isnull(d447.iloc[:,6])==False)\n"
   ]
  },
  {
   "cell_type": "code",
   "execution_count": 3,
   "metadata": {
    "collapsed": false
   },
   "outputs": [],
   "source": [
    "existmice=np.where(pd.isnull(d447.iloc[:,6])==False)\n",
    "notaverow=np.where(pd.isnull(d447.iloc[:,0])==False)"
   ]
  },
  {
   "cell_type": "code",
   "execution_count": 4,
   "metadata": {
    "collapsed": false
   },
   "outputs": [],
   "source": [
    "myrow=np.intersect1d(existmice,notaverow)"
   ]
  },
  {
   "cell_type": "code",
   "execution_count": 5,
   "metadata": {
    "collapsed": false
   },
   "outputs": [
    {
     "data": {
      "text/plain": [
       "(42, 14)"
      ]
     },
     "execution_count": 5,
     "metadata": {},
     "output_type": "execute_result"
    }
   ],
   "source": [
    "myd447=d447.iloc[myrow,:]\n",
    "myd447.shape\n"
   ]
  },
  {
   "cell_type": "code",
   "execution_count": 25,
   "metadata": {
    "collapsed": false
   },
   "outputs": [
    {
     "name": "stdout",
     "output_type": "stream",
     "text": [
      "Variable    Type         Data/Info\n",
      "----------------------------------\n",
      "d447        DataFrame       Program Strain      Ag<...>0  0.042258    0.682155  \n",
      "d89         DataFrame       Program Strain     Age<...>9  0.081147    0.366420  \n",
      "data        ExcelFile    <pandas.io.excel.ExcelFile object at 0x112cb5da0>\n",
      "existmice   tuple        n=1\n",
      "myd447      DataFrame       Program Strain      Ag<...>    98.9  \\n57    103.4  \n",
      "myrow       ndarray      42: 42 elems, type `int64`, 336 bytes\n",
      "notaverow   tuple        n=1\n",
      "np          module       <module 'numpy' from '/Us<...>kages/numpy/__init__.py'>\n",
      "pd          module       <module 'pandas' from '/U<...>ages/pandas/__init__.py'>\n",
      "plt         module       <module 'matplotlib.pyplo<...>es/matplotlib/pyplot.py'>\n",
      "sheet       list         n=13\n"
     ]
    }
   ],
   "source": [
    "whos"
   ]
  },
  {
   "cell_type": "code",
   "execution_count": null,
   "metadata": {
    "collapsed": true
   },
   "outputs": [],
   "source": []
  }
 ],
 "metadata": {
  "anaconda-cloud": {},
  "kernelspec": {
   "display_name": "Python [default]",
   "language": "python",
   "name": "python3"
  },
  "language_info": {
   "codemirror_mode": {
    "name": "ipython",
    "version": 3
   },
   "file_extension": ".py",
   "mimetype": "text/x-python",
   "name": "python",
   "nbconvert_exporter": "python",
   "pygments_lexer": "ipython3",
   "version": "3.5.2"
  }
 },
 "nbformat": 4,
 "nbformat_minor": 1
}
