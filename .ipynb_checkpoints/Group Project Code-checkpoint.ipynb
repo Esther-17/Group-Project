{
 "cells": [
  {
   "cell_type": "code",
   "execution_count": null,
   "metadata": {
    "collapsed": true
   },
   "outputs": [],
   "source": [
    "from sklearn.linear_model import LinearRegression\n",
    "import numpy as np\n",
    "import pandas as pd\n",
    "import matplotlib.pyplot as plt\n",
    "%matplotlib inline\n",
    "# import data\n",
    "data = pd.ExcelFile('GordonChristopher_LE BN CR data for figures - Body Comp.xlsx')\n",
    "sheetnames=data.sheet_names\n",
    "# import all the worksheets\n",
    "d={}\n",
    "sheetname=[None] * 13\n",
    "for i in range(13):\n",
    "    name=sheetnames[i].replace(' ', '') # remove space from the worksheetname\n",
    "    sheetname[i]=name\n",
    "    if i == 0:\n",
    "        globals()[name]= data.parse(sheetnames[i],header=1)\n",
    "    else:\n",
    "        globals()[name]= data.parse(sheetnames[i])\n",
    "# clean up the data\n",
    "mymice=np.arange(60)\n",
    "for x in sheetname:\n",
    "    existmice=np.where(pd.isnull(globals()[x].iloc[:,6])==False) # remove overfat and dead mice\n",
    "    notaverow=np.where(pd.isnull(globals()[x].iloc[:,0])==False) # remove average row from data\n",
    "    bothrow=np.intersect1d(existmice,notaverow) # the overlapping row within one worksheet\n",
    "    mymice=np.intersect1d(mymice,bothrow) # overlapping between worksheet\\\n",
    "# get the 'new' dataset\n",
    "newsheetname=[None] * 13\n",
    "for i in range(13):\n",
    "    x='new'+sheetname[i]\n",
    "    newsheetname[i]=x\n",
    "    globals()[x]=globals()[sheetname[i]].iloc[mymice,:] # only the mice never have miss any data"
   ]
  },
  {
   "cell_type": "code",
   "execution_count": null,
   "metadata": {
    "collapsed": true
   },
   "outputs": [],
   "source": [
    "# test and train ind base on dataframe input\n",
    "def test_train_id(data,test_frac):\n",
    "    testnumber=round(len(data)*test_frac)\n",
    "    ids=list(data.index)\n",
    "    np.random.shuffle(ids)\n",
    "    test=ids[0:testnumber]\n",
    "    test.sort()\n",
    "    train=ids[testnumber:]  \n",
    "    train.sort()\n",
    "    return train,test,testnumber\n",
    "# days in experiment\n",
    "day=[89,117,152,180,209,244,272,300,335,363,384,421,447]\n",
    "daydiff=[0,117-89,152-89,180-89,209-89,244-89,272-89,300-89,335-89,363-89,384-89,421-89,447-89]\n",
    "# six groups in experiment\n",
    "groups=newPND89.Group.unique()"
   ]
  },
  {
   "cell_type": "code",
   "execution_count": null,
   "metadata": {
    "collapsed": true
   },
   "outputs": [],
   "source": [
    "def group_measure(group,measure):\n",
    "# random assign train and test ind based on 'first day'\n",
    "    BLPND89=globals()[newsheetname[0]][globals()[newsheetname[0]]['Group'].str.contains(group,case=False)]\n",
    "    train,test,testnumber=test_train_id(BLPND89,0.3)\n",
    "# pull data based on ind\n",
    "    trainweight=[None]*13\n",
    "    testweight=[None]*13\n",
    "    avetrainweight=[None]*13\n",
    "    for i in range(13):\n",
    "        bl1=globals()[sheetname[i]].iloc[test,:]\n",
    "        testweight[i]=bl1[measure]\n",
    "        bl2=globals()[sheetname[i]].iloc[train,:]\n",
    "        trainweight[i]=bl2[measure]\n",
    "        avetrainweight[i]=np.mean(bl2[measure])\n",
    "    traindiff=[None]*13\n",
    "    testdiff=[None]*13\n",
    "    avetraindiff=[None]*13\n",
    "    for i in range(0,13):\n",
    "        if i==0:\n",
    "            testdiff[i]=testweight[i]-testweight[0]\n",
    "            traindiff[i]=trainweight[i]-trainweight[0]\n",
    "            avetraindiff[i]=np.mean(traindiff[i])\n",
    "        else:\n",
    "            testdiff[i]=testweight[i]-testweight[0]\n",
    "            traindiff[i]=trainweight[i]-trainweight[0]\n",
    "            avetraindiff[i]=np.mean(traindiff[i])\n",
    "            \n",
    "# linear regression\n",
    "    model = LinearRegression(fit_intercept=True)\n",
    "    model.fit(np.asarray(daydiff)[:,np.newaxis], np.asarray(avetraindiff))\n",
    "    slope=model.coef_\n",
    "    intercept=model.intercept_\n",
    "\n",
    "# \"predict\" based on day\n",
    "    predict=model.predict(np.asarray(daydiff)[:, np.newaxis])\n",
    "\n",
    "# check accuracy of the regression\n",
    "    error=sum(abs(testdiff[-1]-predict[-1])/testdiff[-1])\n",
    "    percenterror=error/2\n",
    "    \n",
    "    return slope,intercept,percenterror,traindiff,avetraindiff,predict,testdiff"
   ]
  },
  {
   "cell_type": "markdown",
   "metadata": {},
   "source": [
    "# Weight"
   ]
  },
  {
   "cell_type": "code",
   "execution_count": null,
   "metadata": {
    "collapsed": false
   },
   "outputs": [],
   "source": [
    "wtprediction=[None]*6\n",
    "for i in range(6):\n",
    "    slope,intercept,percenterror,traindiff,avetraindiff,wtprediction[i],testdiff=group_measure(groups[i],'Sample Weight (g)')\n",
    "    Fig=plt.figure(figsize=(15,8))\n",
    "    for xe, ye in zip(day, traindiff):\n",
    "        indi=plt.scatter([xe] * len(ye), ye, c=\"limegreen\",alpha=0.6,s=50,edgecolors='none')\n",
    "    plt.xticks([89,117,152,180,209,244,272,300,335,363,384,421,447])\n",
    "    plt.axes().set_xticklabels(sheetnames,rotation=75)\n",
    "# average point\n",
    "    average=plt.scatter(day,avetraindiff, c=\"red\",s=60,edgecolors='none',label=\"Aveage\")\n",
    "# plot linear regression\n",
    "    plt.plot(np.asarray(day), wtprediction[i], color='seagreen',linewidth=3)\n",
    "# plot test group\n",
    "    for xe, ye in zip(day, testdiff):\n",
    "        testindi=plt.scatter([xe] * len(ye), ye, c=\"purple\",alpha=0.6,s=50,edgecolors='none')\n",
    "# set up figure \n",
    "    plt.legend((indi,testindi,average),('Train Individual','Test Individual','Average'),scatterpoints=1,loc='upper left')\n",
    "    plt.title(groups[i])\n",
    "    plt.ylabel('Weight(g)')\n",
    "    print(groups[i],'percentage error is: {0} %\\n'.format(round(percenterror,2)))"
   ]
  },
  {
   "cell_type": "code",
   "execution_count": null,
   "metadata": {
    "collapsed": false
   },
   "outputs": [],
   "source": [
    "Fig=plt.figure(figsize=(15,8))\n",
    "color=['maroon','red','tomato','darkgreen','mediumseagreen','lawngreen']\n",
    "for i in range (6):\n",
    "    plt.plot(np.asarray(day), wtprediction[i], color=color[i],linewidth=3,label=groups[i])\n",
    "plt.legend(loc='upper left')\n",
    "plt.xticks([89,117,152,180,209,244,272,300,335,363,384,421,447])\n",
    "plt.xlim(88,450)\n",
    "#plt.ylim(200,500)\n",
    "plt.axes().set_xticklabels(sheetnames,rotation=75)\n",
    "plt.title('linear regression for weight of all groups')\n",
    "plt.ylabel('Weight(g)')\n",
    "plt.xlabel('Day')"
   ]
  },
  {
   "cell_type": "markdown",
   "metadata": {},
   "source": [
    "# % Fat"
   ]
  },
  {
   "cell_type": "code",
   "execution_count": null,
   "metadata": {
    "collapsed": false
   },
   "outputs": [],
   "source": [
    "fatprediction=[None]*6\n",
    "for i in range(6):\n",
    "    slope,intercept,percenterror,traindiff,avetraindiff,fatprediction[i],testdiff=group_measure(groups[i],'% Fat')\n",
    "    Fig=plt.figure(figsize=(15,8))\n",
    "    for xe, ye in zip(day, traindiff):\n",
    "        indi=plt.scatter([xe] * len(ye), ye, c=\"limegreen\",alpha=0.6,s=50,edgecolors='none')\n",
    "    plt.xticks([89,117,152,180,209,244,272,300,335,363,384,421,447])\n",
    "    plt.axes().set_xticklabels(sheetnames,rotation=75)\n",
    "# average point\n",
    "    average=plt.scatter(day,avetraindiff, c=\"red\",s=60,edgecolors='none',label=\"Aveage\")\n",
    "# plot linear regression\n",
    "    plt.plot(np.asarray(day), fatprediction[i], color='seagreen',linewidth=3)\n",
    "# plot test group\n",
    "    for xe, ye in zip(day, testdiff):\n",
    "        testindi=plt.scatter([xe] * len(ye), ye, c=\"purple\",alpha=0.6,s=50,edgecolors='none')\n",
    "# set up figure \n",
    "    plt.legend((indi,testindi,average),('Train Individual','Test Individual','Average'),scatterpoints=1,loc='upper left')\n",
    "    plt.title(groups[i])\n",
    "    plt.ylabel('% Fat')\n",
    "    print(groups[i],'percentage error is: {0} %\\n'.format(round(percenterror,2)))"
   ]
  },
  {
   "cell_type": "markdown",
   "metadata": {},
   "source": [
    "Percentage error is much higher than weight. \n",
    "Therefore, linear regression probably not a good model for this measurement."
   ]
  },
  {
   "cell_type": "code",
   "execution_count": null,
   "metadata": {
    "collapsed": false
   },
   "outputs": [],
   "source": [
    "Fig=plt.figure(figsize=(15,8))\n",
    "color=['maroon','red','tomato','darkgreen','mediumseagreen','lawngreen']\n",
    "for i in range (6):\n",
    "    plt.plot(np.asarray(day), fatprediction[i], color=color[i],linewidth=3,label=groups[i])\n",
    "plt.legend(loc='upper left')\n",
    "plt.xticks([89,117,152,180,209,244,272,300,335,363,384,421,447])\n",
    "plt.xlim(88,450)\n",
    "#plt.ylim(200,500)\n",
    "plt.axes().set_xticklabels(sheetnames,rotation=75)\n",
    "plt.title('linear regression for Percentage Fat of all groups')\n",
    "plt.ylabel('Weight(g)')\n",
    "plt.xlabel('Day')"
   ]
  },
  {
   "cell_type": "markdown",
   "metadata": {},
   "source": [
    "# % Lean"
   ]
  },
  {
   "cell_type": "code",
   "execution_count": null,
   "metadata": {
    "collapsed": false
   },
   "outputs": [],
   "source": [
    "leprediction=[None]*6\n",
    "for i in range(6):\n",
    "    slope,intercept,percenterror,traindiff,avetraindiff,leprediction[i],testdiff=group_measure(groups[i],'% Lean')\n",
    "    Fig=plt.figure(figsize=(15,8))\n",
    "    for xe, ye in zip(day, traindiff):\n",
    "        indi=plt.scatter([xe] * len(ye), ye, c=\"limegreen\",alpha=0.6,s=50,edgecolors='none')\n",
    "    plt.xticks([89,117,152,180,209,244,272,300,335,363,384,421,447])\n",
    "    plt.axes().set_xticklabels(sheetnames,rotation=75)\n",
    "# average point\n",
    "    average=plt.scatter(day,avetraindiff, c=\"red\",s=60,edgecolors='none',label=\"Aveage\")\n",
    "# plot linear regression\n",
    "    plt.plot(np.asarray(day), leprediction[i], color='seagreen',linewidth=3)\n",
    "# plot test group\n",
    "    for xe, ye in zip(day, testdiff):\n",
    "        testindi=plt.scatter([xe] * len(ye), ye, c=\"purple\",alpha=0.6,s=50,edgecolors='none')\n",
    "# set up figure \n",
    "    plt.legend((indi,testindi,average),('Train Individual','Test Individual','Average'),scatterpoints=1,loc='upper left')\n",
    "    plt.title(groups[i])\n",
    "    plt.ylabel('% Fat')\n",
    "    print(groups[i],'percentage error is: {0} %\\n'.format(round(percenterror,2)))"
   ]
  },
  {
   "cell_type": "code",
   "execution_count": null,
   "metadata": {
    "collapsed": false
   },
   "outputs": [],
   "source": [
    "Fig=plt.figure(figsize=(15,8))\n",
    "color=['maroon','red','tomato','darkgreen','mediumseagreen','lawngreen']\n",
    "for i in range (6):\n",
    "    plt.plot(np.asarray(day), leprediction[i], color=color[i],linewidth=3,label=groups[i])\n",
    "plt.legend(loc='upper left')\n",
    "plt.xticks([89,117,152,180,209,244,272,300,335,363,384,421,447])\n",
    "plt.xlim(88,450)\n",
    "#plt.ylim(200,500)\n",
    "plt.axes().set_xticklabels(sheetnames,rotation=75)\n",
    "plt.title('linear regression for Percentage Lean of all groups')\n",
    "plt.ylabel('Weight(g)')\n",
    "plt.xlabel('Day')"
   ]
  },
  {
   "cell_type": "code",
   "execution_count": null,
   "metadata": {
    "collapsed": true
   },
   "outputs": [],
   "source": []
  },
  {
   "cell_type": "code",
   "execution_count": null,
   "metadata": {
    "collapsed": false
   },
   "outputs": [],
   "source": [
    "whos"
   ]
  },
  {
   "cell_type": "code",
   "execution_count": null,
   "metadata": {
    "collapsed": true
   },
   "outputs": [],
   "source": []
  }
 ],
 "metadata": {
  "anaconda-cloud": {},
  "kernelspec": {
   "display_name": "Python [conda root]",
   "language": "python",
   "name": "conda-root-py"
  },
  "language_info": {
   "codemirror_mode": {
    "name": "ipython",
    "version": 3
   },
   "file_extension": ".py",
   "mimetype": "text/x-python",
   "name": "python",
   "nbconvert_exporter": "python",
   "pygments_lexer": "ipython3",
   "version": "3.5.2"
  }
 },
 "nbformat": 4,
 "nbformat_minor": 1
}
