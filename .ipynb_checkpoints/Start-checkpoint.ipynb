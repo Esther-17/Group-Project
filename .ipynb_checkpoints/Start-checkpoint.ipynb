{
 "cells": [
  {
   "cell_type": "markdown",
   "metadata": {},
   "source": [
    "PCA or multiple linear regression ??"
   ]
  },
  {
   "cell_type": "code",
   "execution_count": 1,
   "metadata": {
    "collapsed": false
   },
   "outputs": [],
   "source": [
    "import numpy as np\n",
    "import pandas as pd\n",
    "import matplotlib.pyplot as plt\n",
    "%matplotlib inline"
   ]
  },
  {
   "cell_type": "code",
   "execution_count": 52,
   "metadata": {
    "collapsed": false
   },
   "outputs": [],
   "source": [
    "# import data\n",
    "data = pd.ExcelFile('GordonChristopher_LE BN CR data for figures - Body Comp.xlsx')\n",
    "sheetnames=data.sheet_names"
   ]
  },
  {
   "cell_type": "code",
   "execution_count": 49,
   "metadata": {
    "collapsed": false
   },
   "outputs": [],
   "source": [
    "# import all the worksheets\n",
    "d={}\n",
    "sheetname=[None] * 13\n",
    "for i in range(13):\n",
    "    name=sheetnames[i].replace(' ', '')\n",
    "    sheetname[i]=name\n",
    "    if i == 0:\n",
    "        globals()[name]= data.parse(sheetnames[i],header=1)\n",
    "    else:\n",
    "        globals()[name]= data.parse(sheetnames[i])"
   ]
  },
  {
   "cell_type": "code",
   "execution_count": 59,
   "metadata": {
    "collapsed": false
   },
   "outputs": [],
   "source": [
    "# exclude mice that miss data\n",
    "mymice=np.arange(60)\n",
    "for x in sheetname:\n",
    "    existmice=np.where(pd.isnull(globals()[x].iloc[:,6])==False)\n",
    "    notaverow=np.where(pd.isnull(globals()[x].iloc[:,0])==False)\n",
    "    bothrow=np.intersect1d(existmice,notaverow)\n",
    "    mymice=np.intersect1d(myrow,bothrow)"
   ]
  },
  {
   "cell_type": "code",
   "execution_count": 63,
   "metadata": {
    "collapsed": false
   },
   "outputs": [],
   "source": [
    "# get the 'new' dataset \n",
    "for x in sheetname:   \n",
    "    globals()['new'+x]=globals()[x].iloc[mymice,:]"
   ]
  },
  {
   "cell_type": "code",
   "execution_count": null,
   "metadata": {
    "collapsed": false
   },
   "outputs": [],
   "source": []
  },
  {
   "cell_type": "code",
   "execution_count": 43,
   "metadata": {
    "collapsed": false
   },
   "outputs": [
    {
     "name": "stdout",
     "output_type": "stream",
     "text": [
      "Variable     Type         Data/Info\n",
      "-----------------------------------\n",
      "PND 117      DataFrame        ratV4   BN  117 day  <...>9776           0.390398  \n",
      "PND 152      DataFrame        ratV4   BN  152 day  <...>6474           0.374374  \n",
      "PND 180      DataFrame        ratV4   BN  180 day  <...>8  0.086603    0.363883  \n",
      "PND 209      DataFrame        ratV4   BN  209 day  <...>8  0.051539    0.446714  \n",
      "PND 244      DataFrame        ratV4   BN  244 day  <...>4383           0.399553  \n",
      "PND 272      DataFrame        ratV4   BN  272 day  <...>8  0.032733    0.562024  \n",
      "PND 300      DataFrame        ratV4   BN  300 day  <...>8  0.035038    0.572276  \n",
      "PND 335      DataFrame        ratV4   BN  335 day  <...>8056           0.552591  \n",
      "PND 363      DataFrame        ratV4   BN  363 day  <...>8  0.075593    0.602654  \n",
      "PND 384      DataFrame        ratV4   BN  384 day  <...>2610           0.604577  \n",
      "PND 421      DataFrame        ratV4   BN  421 day  <...>8  0.077776    0.746285  \n",
      "PND 447      DataFrame        ratV4   BN  447 day  <...>8  0.042258    0.682155  \n",
      "PND 89       DataFrame       Program Strain     Age<...>9  0.081147    0.366420  \n",
      "PND117       DataFrame       Program Strain      Ag<...>6  0.049776    0.390398  \n",
      "PND152       DataFrame       Program Strain      Ag<...>2  0.086474    0.374374  \n",
      "PND180       DataFrame       Program Strain      Ag<...>9  0.086603    0.363883  \n",
      "PND209       DataFrame       Program Strain      Ag<...>4  0.051539    0.446714  \n",
      "PND244       DataFrame       Program Strain      Ag<...>4  0.084383    0.399553  \n",
      "PND272       DataFrame       Program Strain      Ag<...>7  0.032733    0.562024  \n",
      "PND300       DataFrame       Program Strain      Ag<...>5  0.035038    0.572276  \n",
      "PND335       DataFrame       Program Strain      Ag<...>6  0.058056    0.552591  \n",
      "PND363       DataFrame       Program Strain      Ag<...>8  0.075593    0.602654  \n",
      "PND384       DataFrame       Program Strain      Ag<...>0  0.052610    0.604577  \n",
      "PND421       DataFrame       Program Strain      Ag<...>6  0.077776    0.746285  \n",
      "PND447       DataFrame       Program Strain      Ag<...>0  0.042258    0.682155  \n",
      "PND89        DataFrame       Program Strain     Age<...>9  0.081147    0.366420  \n",
      "d            dict         n=0\n",
      "d447         DataFrame       Program Strain      Ag<...>0  0.042258    0.682155  \n",
      "data         ExcelFile    <pandas.io.excel.ExcelFile object at 0x1047282b0>\n",
      "existmice    tuple        n=1\n",
      "i            int          12\n",
      "myd447       DataFrame       Program Strain      Ag<...>    98.9  \\n57    103.4  \n",
      "myrow        ndarray      42: 42 elems, type `int64`, 336 bytes\n",
      "name         str          PND447\n",
      "notaverow    tuple        n=1\n",
      "np           module       <module 'numpy' from '/Us<...>kages/numpy/__init__.py'>\n",
      "pd           module       <module 'pandas' from '/U<...>ages/pandas/__init__.py'>\n",
      "plt          module       <module 'matplotlib.pyplo<...>es/matplotlib/pyplot.py'>\n",
      "sheetname    list         n=13\n",
      "sheetnames   list         n=13\n"
     ]
    }
   ],
   "source": [
    "whos"
   ]
  },
  {
   "cell_type": "code",
   "execution_count": null,
   "metadata": {
    "collapsed": true
   },
   "outputs": [],
   "source": []
  }
 ],
 "metadata": {
  "anaconda-cloud": {},
  "kernelspec": {
   "display_name": "Python [default]",
   "language": "python",
   "name": "python3"
  },
  "language_info": {
   "codemirror_mode": {
    "name": "ipython",
    "version": 3
   },
   "file_extension": ".py",
   "mimetype": "text/x-python",
   "name": "python",
   "nbconvert_exporter": "python",
   "pygments_lexer": "ipython3",
   "version": "3.5.2"
  }
 },
 "nbformat": 4,
 "nbformat_minor": 1
}
